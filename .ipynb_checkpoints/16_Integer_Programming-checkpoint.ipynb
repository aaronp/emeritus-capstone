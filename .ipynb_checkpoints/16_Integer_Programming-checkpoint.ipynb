{
 "cells": [
  {
   "cell_type": "markdown",
   "metadata": {},
   "source": [
    "<img src=images/Imperial_logo_crop.png width=300 align=right />"
   ]
  },
  {
   "cell_type": "markdown",
   "metadata": {},
   "source": [
    "# BUSINESS ANALYTICS: FROM DATA TO DECISIONS"
   ]
  },
  {
   "cell_type": "markdown",
   "metadata": {},
   "source": [
    "# Integer Programming"
   ]
  },
  {
   "cell_type": "code",
   "execution_count": 1,
   "metadata": {},
   "outputs": [],
   "source": [
    "import pulp as pl"
   ]
  },
  {
   "cell_type": "markdown",
   "metadata": {},
   "source": [
    "## Kerns & Associates example"
   ]
  },
  {
   "cell_type": "code",
   "execution_count": 2,
   "metadata": {},
   "outputs": [],
   "source": [
    "prob = pl.LpProblem('K&A', pl.LpMaximize)"
   ]
  },
  {
   "cell_type": "markdown",
   "metadata": {},
   "source": [
    "### Variables\n",
    "We want to choose which projects to invest on."
   ]
  },
  {
   "cell_type": "code",
   "execution_count": 3,
   "metadata": {},
   "outputs": [],
   "source": [
    "project_1 = pl.LpVariable('p1', cat='Binary')\n",
    "project_2 = pl.LpVariable('p2', cat='Binary')\n",
    "project_3 = pl.LpVariable('p3', cat='Binary')\n",
    "project_4 = pl.LpVariable('p4', cat='Binary')"
   ]
  },
  {
   "cell_type": "code",
   "execution_count": 4,
   "metadata": {},
   "outputs": [],
   "source": [
    "#project_1 = pl.LpVariable('p1', lowBound=0, upBound=1, cat='Integer')\n",
    "#project_2 = pl.LpVariable('p2', lowBound=0, upBound=1, cat='Integer')\n",
    "#project_3 = pl.LpVariable('p3', lowBound=0, upBound=1, cat='Integer')\n",
    "#project_4 = pl.LpVariable('p4', lowBound=0, upBound=1, cat='Integer')"
   ]
  },
  {
   "cell_type": "markdown",
   "metadata": {},
   "source": [
    "### Objective\n",
    "We want to maximize our `profit` from investing in the possible projects, and we know we will earn:\n",
    "\n",
    "- 12 M GBP with project 1,\n",
    "- 8 M GBP with project 2,\n",
    "- 7 M GBP with project 3, and\n",
    "- 6 M GBP with project 4.\n",
    "\n",
    "$$ profit = 12 \\cdot p1 + 8 \\cdot p2 + 7 \\cdot p3 + 6 \\cdot p4 $$"
   ]
  },
  {
   "cell_type": "code",
   "execution_count": 5,
   "metadata": {},
   "outputs": [],
   "source": [
    "prob += 12 * project_1 \\\n",
    "       + 8 * project_2 \\\n",
    "       + 7 * project_3 \\\n",
    "       + 6 * project_4"
   ]
  },
  {
   "cell_type": "markdown",
   "metadata": {},
   "source": [
    "### Adding constraints\n",
    "We cannot invest more than a total of 15 M GBP across all project, and we know that the investment required for each project is:\n",
    "\n",
    "- 8 M GBP for project 1,\n",
    "- 6 M GBP for project 2,\n",
    "- 5 M GBP for project 3, and\n",
    "- 4 M GBP for project 4.\n",
    "\n",
    "$$ investment = 8 \\cdot p1 + 6 \\cdot p2 + 5 \\cdot p3 + 4 \\cdot p4 $$"
   ]
  },
  {
   "cell_type": "code",
   "execution_count": 6,
   "metadata": {},
   "outputs": [],
   "source": [
    "prob += 8 * project_1 \\\n",
    "      + 6 * project_2 \\\n",
    "      + 5 * project_3 \\\n",
    "      + 4 * project_4 <= 15"
   ]
  },
  {
   "cell_type": "markdown",
   "metadata": {},
   "source": [
    "### Finding the solution"
   ]
  },
  {
   "cell_type": "code",
   "execution_count": 7,
   "metadata": {},
   "outputs": [
    {
     "name": "stdout",
     "output_type": "stream",
     "text": [
      "p1 = 0.0\n",
      "p2 = 1.0\n",
      "p3 = 1.0\n",
      "p4 = 1.0\n",
      "objective = 21.0\n"
     ]
    }
   ],
   "source": [
    "pl.PULP_CBC_CMD().solve(prob)\n",
    "\n",
    "for v in prob.variables():\n",
    "    print(v.name, '=', v.varValue)\n",
    "\n",
    "print('objective =', pl.value(prob.objective))"
   ]
  }
 ],
 "metadata": {
  "kernelspec": {
   "display_name": "Python 3",
   "language": "python",
   "name": "python3"
  },
  "language_info": {
   "codemirror_mode": {
    "name": "ipython",
    "version": 3
   },
   "file_extension": ".py",
   "mimetype": "text/x-python",
   "name": "python",
   "nbconvert_exporter": "python",
   "pygments_lexer": "ipython3",
   "version": "3.8.5"
  }
 },
 "nbformat": 4,
 "nbformat_minor": 4
}
